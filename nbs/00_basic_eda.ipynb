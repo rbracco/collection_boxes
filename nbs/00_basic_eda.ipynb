{
 "cells": [
  {
   "cell_type": "markdown",
   "metadata": {},
   "source": [
    "# Exploring Removed USPS Collection Boxes"
   ]
  },
  {
   "cell_type": "markdown",
   "metadata": {},
   "source": [
    "## Import and Load Data"
   ]
  },
  {
   "cell_type": "code",
   "execution_count": 10,
   "metadata": {},
   "outputs": [],
   "source": [
    "import pandas as pd"
   ]
  },
  {
   "cell_type": "code",
   "execution_count": 23,
   "metadata": {},
   "outputs": [],
   "source": [
    "df_added = pd.read_csv(\"../data/added_2019_to_2020.csv\")\n",
    "df_removed = pd.read_csv(\"../data/removed_2019_to_2020.csv\")"
   ]
  },
  {
   "cell_type": "code",
   "execution_count": 24,
   "metadata": {},
   "outputs": [],
   "source": [
    "## Cleaning and analyzing the removed boxes"
   ]
  },
  {
   "cell_type": "code",
   "execution_count": 25,
   "metadata": {},
   "outputs": [
    {
     "data": {
      "text/plain": [
       "(3027, 49)"
      ]
     },
     "execution_count": 25,
     "metadata": {},
     "output_type": "execute_result"
    }
   ],
   "source": [
    "df_removed.shape"
   ]
  },
  {
   "cell_type": "code",
   "execution_count": 27,
   "metadata": {},
   "outputs": [
    {
     "name": "stdout",
     "output_type": "stream",
     "text": [
      "<class 'pandas.core.frame.DataFrame'>\n",
      "RangeIndex: 3027 entries, 0 to 3026\n",
      "Data columns (total 49 columns):\n",
      " #   Column                       Non-Null Count  Dtype  \n",
      "---  ------                       --------------  -----  \n",
      " 0   OUTLETID                     3027 non-null   int64  \n",
      " 1   BUSNAME                      3027 non-null   object \n",
      " 2   ADDR1                        3027 non-null   object \n",
      " 3   ADDR2                        0 non-null      float64\n",
      " 4   CITY                         3027 non-null   object \n",
      " 5   STATE                        3027 non-null   object \n",
      " 6   ZIP                          3027 non-null   int64  \n",
      " 7   ZIP4                         0 non-null      float64\n",
      " 8   PHONE                        0 non-null      float64\n",
      " 9   FAX                          0 non-null      float64\n",
      " 10  TOLLFREE                     0 non-null      float64\n",
      " 11  CATEGORYID                   3027 non-null   int64  \n",
      " 12  HOURS1                       0 non-null      float64\n",
      " 13  HOURS2                       0 non-null      float64\n",
      " 14  HOURS3                       0 non-null      float64\n",
      " 15  HOURS4                       0 non-null      float64\n",
      " 16  HOURS5                       0 non-null      float64\n",
      " 17  HOURS6                       0 non-null      float64\n",
      " 18  HOURS7                       0 non-null      float64\n",
      " 19  REGULARHOURSDESCRIPTION      0 non-null      float64\n",
      " 20  COLLECTIONHOURS1             3027 non-null   object \n",
      " 21  COLLECTIONHOURS2             3027 non-null   object \n",
      " 22  COLLECTIONHOURS3             3027 non-null   object \n",
      " 23  COLLECTIONHOURS4             3027 non-null   object \n",
      " 24  COLLECTIONHOURS5             3027 non-null   object \n",
      " 25  COLLECTIONHOURS6             2502 non-null   object \n",
      " 26  COLLECTIONHOURS7             0 non-null      float64\n",
      " 27  COLLECTIONHOURSDESCRIPTION   0 non-null      float64\n",
      " 28  SPECIALHOURS1                0 non-null      float64\n",
      " 29  SPECIALHOURS2                0 non-null      float64\n",
      " 30  SPECIALHOURS3                0 non-null      float64\n",
      " 31  SPECIALHOURS4                0 non-null      float64\n",
      " 32  SPECIALHOURS5                0 non-null      float64\n",
      " 33  SPECIALHOURS6                0 non-null      float64\n",
      " 34  SPECIALHOURS7                0 non-null      float64\n",
      " 35  SPECIALHOURSDESCRIPTION      0 non-null      float64\n",
      " 36  MISCELLANEOUSSPECIALHOURS1   0 non-null      float64\n",
      " 37  MISCELLANEOUSSPECIALHOURS2   0 non-null      float64\n",
      " 38  MISCELLANEOUSSPECIALHOURS3   0 non-null      float64\n",
      " 39  MISCELLANEOUSSPECIALHOURS4   0 non-null      float64\n",
      " 40  MISCELLANEOUSSPECIALHOURS5   0 non-null      float64\n",
      " 41  MISCELLANEOUSSPECIALHOURS6   0 non-null      float64\n",
      " 42  MISCELLANEOUSSPECIALHOURS7   0 non-null      float64\n",
      " 43  MISCSPECIALHOURSDESCRIPTION  0 non-null      float64\n",
      " 44  DONTSHOWLOCALNUMBER          0 non-null      float64\n",
      " 45  SPECIALMESSAGETEXT           1905 non-null   object \n",
      " 46  SHOWNOTICE                   3027 non-null   object \n",
      " 47  LATITUDE                     3022 non-null   float64\n",
      " 48  LONGITUDE                    3022 non-null   float64\n",
      "dtypes: float64(34), int64(3), object(12)\n",
      "memory usage: 1.1+ MB\n"
     ]
    }
   ],
   "source": [
    "df_removed.info()"
   ]
  },
  {
   "cell_type": "markdown",
   "metadata": {},
   "source": [
    "### Drop columns with no values"
   ]
  },
  {
   "cell_type": "code",
   "execution_count": 35,
   "metadata": {},
   "outputs": [],
   "source": [
    "df_removed = df_removed.dropna(how='all', axis=1)"
   ]
  },
  {
   "cell_type": "code",
   "execution_count": 36,
   "metadata": {},
   "outputs": [
    {
     "data": {
      "text/plain": [
       "(3027, 17)"
      ]
     },
     "execution_count": 36,
     "metadata": {},
     "output_type": "execute_result"
    }
   ],
   "source": [
    "df_removed.shape"
   ]
  },
  {
   "cell_type": "code",
   "execution_count": 37,
   "metadata": {},
   "outputs": [
    {
     "data": {
      "text/plain": [
       "Index(['OUTLETID', 'BUSNAME', 'ADDR1', 'CITY', 'STATE', 'ZIP', 'CATEGORYID',\n",
       "       'COLLECTIONHOURS1', 'COLLECTIONHOURS2', 'COLLECTIONHOURS3',\n",
       "       'COLLECTIONHOURS4', 'COLLECTIONHOURS5', 'COLLECTIONHOURS6',\n",
       "       'SPECIALMESSAGETEXT', 'SHOWNOTICE', 'LATITUDE', 'LONGITUDE'],\n",
       "      dtype='object')"
      ]
     },
     "execution_count": 37,
     "metadata": {},
     "output_type": "execute_result"
    }
   ],
   "source": [
    "df_removed.columns"
   ]
  },
  {
   "cell_type": "code",
   "execution_count": 39,
   "metadata": {},
   "outputs": [
    {
     "name": "stdout",
     "output_type": "stream",
     "text": [
      "<class 'pandas.core.frame.DataFrame'>\n",
      "Int64Index: 3027 entries, 0 to 3026\n",
      "Data columns (total 17 columns):\n",
      " #   Column              Non-Null Count  Dtype  \n",
      "---  ------              --------------  -----  \n",
      " 0   OUTLETID            3027 non-null   int64  \n",
      " 1   BUSNAME             3027 non-null   object \n",
      " 2   ADDR1               3027 non-null   object \n",
      " 3   CITY                3027 non-null   object \n",
      " 4   STATE               3027 non-null   object \n",
      " 5   ZIP                 3027 non-null   int64  \n",
      " 6   CATEGORYID          3027 non-null   int64  \n",
      " 7   COLLECTIONHOURS1    3027 non-null   object \n",
      " 8   COLLECTIONHOURS2    3027 non-null   object \n",
      " 9   COLLECTIONHOURS3    3027 non-null   object \n",
      " 10  COLLECTIONHOURS4    3027 non-null   object \n",
      " 11  COLLECTIONHOURS5    3027 non-null   object \n",
      " 12  COLLECTIONHOURS6    2502 non-null   object \n",
      " 13  SPECIALMESSAGETEXT  1905 non-null   object \n",
      " 14  SHOWNOTICE          3027 non-null   object \n",
      " 15  LATITUDE            3022 non-null   float64\n",
      " 16  LONGITUDE           3022 non-null   float64\n",
      "dtypes: float64(2), int64(3), object(12)\n",
      "memory usage: 425.7+ KB\n"
     ]
    }
   ],
   "source": [
    "df_removed.info()"
   ]
  },
  {
   "cell_type": "code",
   "execution_count": 41,
   "metadata": {},
   "outputs": [
    {
     "data": {
      "text/plain": [
       "2721"
      ]
     },
     "execution_count": 41,
     "metadata": {},
     "output_type": "execute_result"
    }
   ],
   "source": [
    "df_removed[\"ADDR1\"].nunique()"
   ]
  },
  {
   "cell_type": "markdown",
   "metadata": {},
   "source": [
    "### Get only the columns we want"
   ]
  },
  {
   "cell_type": "code",
   "execution_count": 50,
   "metadata": {},
   "outputs": [],
   "source": [
    "df_removed = df_removed[[\"OUTLETID\", \"BUSNAME\", \"ADDR1\", \"CITY\", \"STATE\", \"ZIP\", \"CATEGORYID\", \"LATITUDE\", \"LONGITUDE\"]]"
   ]
  },
  {
   "cell_type": "markdown",
   "metadata": {},
   "source": [
    "### Drop duplicate addresses, is there any reason we shouldn't do this?\n",
    "\n",
    "The outletID is unique but the address is the same. Are there possibly multiple boxes?"
   ]
  },
  {
   "cell_type": "code",
   "execution_count": 51,
   "metadata": {},
   "outputs": [],
   "source": [
    "df_removed = df_removed.drop_duplicates(subset=['ADDR1'], keep='first')"
   ]
  },
  {
   "cell_type": "code",
   "execution_count": 52,
   "metadata": {},
   "outputs": [
    {
     "data": {
      "text/html": [
       "<div>\n",
       "<style scoped>\n",
       "    .dataframe tbody tr th:only-of-type {\n",
       "        vertical-align: middle;\n",
       "    }\n",
       "\n",
       "    .dataframe tbody tr th {\n",
       "        vertical-align: top;\n",
       "    }\n",
       "\n",
       "    .dataframe thead th {\n",
       "        text-align: right;\n",
       "    }\n",
       "</style>\n",
       "<table border=\"1\" class=\"dataframe\">\n",
       "  <thead>\n",
       "    <tr style=\"text-align: right;\">\n",
       "      <th></th>\n",
       "      <th>OUTLETID</th>\n",
       "      <th>BUSNAME</th>\n",
       "      <th>ADDR1</th>\n",
       "      <th>CITY</th>\n",
       "      <th>STATE</th>\n",
       "      <th>ZIP</th>\n",
       "      <th>CATEGORYID</th>\n",
       "      <th>LATITUDE</th>\n",
       "      <th>LONGITUDE</th>\n",
       "    </tr>\n",
       "  </thead>\n",
       "  <tbody>\n",
       "    <tr>\n",
       "      <th>0</th>\n",
       "      <td>64700001</td>\n",
       "      <td>USPS COLLECTION BOX - BLUE BOX</td>\n",
       "      <td>6 CALLE SEGUNDA SUR</td>\n",
       "      <td>ENSENADA</td>\n",
       "      <td>PR</td>\n",
       "      <td>647</td>\n",
       "      <td>3064</td>\n",
       "      <td>17.965640</td>\n",
       "      <td>-66.940300</td>\n",
       "    </tr>\n",
       "    <tr>\n",
       "      <th>3</th>\n",
       "      <td>78400011</td>\n",
       "      <td>USPS COLLECTION BOX - BLUE BOX</td>\n",
       "      <td>6 CALLE DERKES E</td>\n",
       "      <td>GUAYAMA</td>\n",
       "      <td>PR</td>\n",
       "      <td>784</td>\n",
       "      <td>3064</td>\n",
       "      <td>17.984693</td>\n",
       "      <td>-66.113513</td>\n",
       "    </tr>\n",
       "    <tr>\n",
       "      <th>4</th>\n",
       "      <td>92100005</td>\n",
       "      <td>USPS COLLECTION BOX - BLUE BOX</td>\n",
       "      <td>1304 AVE AMERICO MIRANDA</td>\n",
       "      <td>SAN JUAN</td>\n",
       "      <td>PR</td>\n",
       "      <td>921</td>\n",
       "      <td>3064</td>\n",
       "      <td>18.398826</td>\n",
       "      <td>-66.085898</td>\n",
       "    </tr>\n",
       "    <tr>\n",
       "      <th>5</th>\n",
       "      <td>97900021</td>\n",
       "      <td>USPS COLLECTION BOX - BLUE BOX</td>\n",
       "      <td>71 CALLE LUNA</td>\n",
       "      <td>CAROLINA</td>\n",
       "      <td>PR</td>\n",
       "      <td>979</td>\n",
       "      <td>3064</td>\n",
       "      <td>18.428901</td>\n",
       "      <td>-66.003761</td>\n",
       "    </tr>\n",
       "    <tr>\n",
       "      <th>6</th>\n",
       "      <td>104000055</td>\n",
       "      <td>USPS COLLECTION BOX - BLUE BOX</td>\n",
       "      <td>110 CHERRY ST</td>\n",
       "      <td>HOLYOKE</td>\n",
       "      <td>MA</td>\n",
       "      <td>1040</td>\n",
       "      <td>3064</td>\n",
       "      <td>42.201031</td>\n",
       "      <td>-72.641210</td>\n",
       "    </tr>\n",
       "  </tbody>\n",
       "</table>\n",
       "</div>"
      ],
      "text/plain": [
       "    OUTLETID                         BUSNAME                     ADDR1  \\\n",
       "0   64700001  USPS COLLECTION BOX - BLUE BOX       6 CALLE SEGUNDA SUR   \n",
       "3   78400011  USPS COLLECTION BOX - BLUE BOX          6 CALLE DERKES E   \n",
       "4   92100005  USPS COLLECTION BOX - BLUE BOX  1304 AVE AMERICO MIRANDA   \n",
       "5   97900021  USPS COLLECTION BOX - BLUE BOX             71 CALLE LUNA   \n",
       "6  104000055  USPS COLLECTION BOX - BLUE BOX             110 CHERRY ST   \n",
       "\n",
       "       CITY STATE   ZIP  CATEGORYID   LATITUDE  LONGITUDE  \n",
       "0  ENSENADA    PR   647        3064  17.965640 -66.940300  \n",
       "3   GUAYAMA    PR   784        3064  17.984693 -66.113513  \n",
       "4  SAN JUAN    PR   921        3064  18.398826 -66.085898  \n",
       "5  CAROLINA    PR   979        3064  18.428901 -66.003761  \n",
       "6   HOLYOKE    MA  1040        3064  42.201031 -72.641210  "
      ]
     },
     "execution_count": 52,
     "metadata": {},
     "output_type": "execute_result"
    }
   ],
   "source": [
    "df_removed.head()"
   ]
  },
  {
   "cell_type": "markdown",
   "metadata": {},
   "source": [
    "### Check states with the most removals"
   ]
  },
  {
   "cell_type": "code",
   "execution_count": 54,
   "metadata": {},
   "outputs": [
    {
     "data": {
      "text/plain": [
       "DC    616\n",
       "CA    344\n",
       "MA    159\n",
       "NY    134\n",
       "TX    115\n",
       "NJ    114\n",
       "OH    112\n",
       "IL    102\n",
       "MD     81\n",
       "WA     75\n",
       "FL     64\n",
       "VA     58\n",
       "MN     52\n",
       "KY     50\n",
       "OR     42\n",
       "PA     42\n",
       "MI     36\n",
       "MT     36\n",
       "IN     34\n",
       "WI     34\n",
       "CT     33\n",
       "GA     33\n",
       "NC     26\n",
       "SD     24\n",
       "AZ     23\n",
       "MO     23\n",
       "AK     22\n",
       "RI     22\n",
       "NE     21\n",
       "NV     20\n",
       "IA     20\n",
       "ND     18\n",
       "WV     14\n",
       "UT     14\n",
       "CO     12\n",
       "OK     11\n",
       "KS     11\n",
       "TN     10\n",
       "ME      8\n",
       "NM      8\n",
       "LA      7\n",
       "NH      7\n",
       "ID      7\n",
       "WY      4\n",
       "AL      4\n",
       "PR      4\n",
       "AR      4\n",
       "VT      3\n",
       "HI      3\n",
       "SC      2\n",
       "MS      2\n",
       "DE      1\n",
       "Name: STATE, dtype: int64"
      ]
     },
     "execution_count": 54,
     "metadata": {},
     "output_type": "execute_result"
    }
   ],
   "source": [
    "df_removed[\"STATE\"].value_counts()"
   ]
  }
 ],
 "metadata": {
  "kernelspec": {
   "display_name": "Python 3",
   "language": "python",
   "name": "python3"
  },
  "language_info": {
   "codemirror_mode": {
    "name": "ipython",
    "version": 3
   },
   "file_extension": ".py",
   "mimetype": "text/x-python",
   "name": "python",
   "nbconvert_exporter": "python",
   "pygments_lexer": "ipython3",
   "version": "3.7.1"
  },
  "toc": {
   "base_numbering": 1,
   "nav_menu": {},
   "number_sections": true,
   "sideBar": true,
   "skip_h1_title": true,
   "title_cell": "Table of Contents",
   "title_sidebar": "Contents",
   "toc_cell": false,
   "toc_position": {},
   "toc_section_display": true,
   "toc_window_display": true
  }
 },
 "nbformat": 4,
 "nbformat_minor": 4
}
